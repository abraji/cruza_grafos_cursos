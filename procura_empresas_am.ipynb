{
 "cells": [
  {
   "cell_type": "code",
   "execution_count": null,
   "metadata": {},
   "outputs": [],
   "source": [
    "# -*- coding: utf-8\n",
    "# Reinaldo Chaves (@paidatocandeira)\n",
    "# Acessa a base de sócios e administradores da Receita Federal\n",
    "# Separa empresas ativas do AM e apenas de Parintins\n",
    "#"
   ]
  },
  {
   "cell_type": "code",
   "execution_count": null,
   "metadata": {},
   "outputs": [],
   "source": []
  },
  {
   "cell_type": "code",
   "execution_count": 1,
   "metadata": {},
   "outputs": [],
   "source": [
    "import pandas as pd"
   ]
  },
  {
   "cell_type": "code",
   "execution_count": null,
   "metadata": {},
   "outputs": [],
   "source": []
  },
  {
   "cell_type": "code",
   "execution_count": null,
   "metadata": {},
   "outputs": [],
   "source": [
    "# Arquivo de QSA da Receita coletado em \n",
    "# https://github.com/georgevbsantiago/qsacnpj"
   ]
  },
  {
   "cell_type": "code",
   "execution_count": null,
   "metadata": {},
   "outputs": [],
   "source": []
  },
  {
   "cell_type": "code",
   "execution_count": 2,
   "metadata": {},
   "outputs": [],
   "source": [
    "# Empresas ativas do AM"
   ]
  },
  {
   "cell_type": "code",
   "execution_count": null,
   "metadata": {},
   "outputs": [],
   "source": [
    "TextFileReader = pd.read_csv('/home/abraji/Documentos/Code/qsa_receita/maio_2020/cnpj_dados_cadastrais_pj.csv',\\\n",
    "                             chunksize=100000,\\\n",
    "                             sep='#',\\\n",
    "                             dtype= str,\\\n",
    "                            decimal=',',\n",
    "                             usecols=['cnpj',\n",
    "                                      'razao_social',\n",
    "                                      'nome_fantasia',\n",
    "                                      'situacao_cadastral',\n",
    "                                      'codigo_natureza_juridica',\n",
    "                                      'data_inicio_atividade',\n",
    "                                      'cnae_fiscal',\n",
    "                                      'uf', \n",
    "                                      'municipio', \n",
    "                                     'capital_social_empresa'])"
   ]
  },
  {
   "cell_type": "code",
   "execution_count": null,
   "metadata": {},
   "outputs": [],
   "source": [
    "now = datetime.now()\n",
    "print(\"A extração começou às: \", now)\n",
    "\n",
    "# Estabelece contagem de vezes\n",
    "conta = 0\n",
    "\n",
    "# Iteração em cada chunk\n",
    "for df in TextFileReader:\n",
    "        \n",
    "    identificador = df['uf'].isin(['AM']) & (df['situacao_cadastral'] == '02')\n",
    "    nome = df[identificador]\n",
    "    \n",
    "    # Testa se encontrou algo\n",
    "    if nome.empty is False:\n",
    "        # Se for a primeira vez cria o dataframe df_procura1\n",
    "        if conta == 0:\n",
    "            df_procura1 = nome\n",
    "        # Se não for a primeira vez faz append no dataframe df_procura1\n",
    "        else:\n",
    "            df_procura1 = df_procura1.append(nome)\n",
    "    \n",
    "        conta = conta + 1\n",
    "    \n",
    "now = datetime.now()\n",
    "print(\"A extração terminou às: \", now)"
   ]
  },
  {
   "cell_type": "code",
   "execution_count": null,
   "metadata": {},
   "outputs": [],
   "source": []
  },
  {
   "cell_type": "code",
   "execution_count": null,
   "metadata": {},
   "outputs": [],
   "source": [
    "df_procura1.shape"
   ]
  },
  {
   "cell_type": "code",
   "execution_count": null,
   "metadata": {},
   "outputs": [],
   "source": []
  },
  {
   "cell_type": "code",
   "execution_count": null,
   "metadata": {},
   "outputs": [],
   "source": [
    "TextFileReader = pd.read_csv('/home/abraji/Documentos/Code/qsa_receita/maio_2020/cnpj_dados_socios_pj.csv',\\\n",
    "                             chunksize=1000,\\\n",
    "                             sep='#',\\\n",
    "                             converters={'cnpj': lambda x: str(x)},\\\n",
    "                             usecols=['cnpj',\n",
    "                                      'identificador_socio',\n",
    "                                      'nome_socio',\n",
    "                                      'cnpj_cpf_socio',\n",
    "                                      'cod_qualificacao_socio',\n",
    "                                      'data_entrada_sociedade',\n",
    "                                      'cpf_representante_legal',\n",
    "                                      'nome_representante'])"
   ]
  },
  {
   "cell_type": "code",
   "execution_count": null,
   "metadata": {},
   "outputs": [],
   "source": [
    "now = datetime.now()\n",
    "print(\"A extração começou às: \", now)\n",
    "\n",
    "conta = 0\n",
    "for df in TextFileReader:\n",
    "\n",
    "    socios_encontrados = pd.merge(df_procura1, \\\n",
    "                                 df, \\\n",
    "                                 left_on='cnpj', \\\n",
    "                                 right_on='cnpj')\n",
    "    \n",
    "    if socios_encontrados.empty is False:\n",
    "        if conta == 0:\n",
    "            df_procura_final = socios_encontrados\n",
    "        else:\n",
    "            df_procura_final = df_procura_final.append(socios_encontrados)\n",
    "    \n",
    "        conta = conta + 1\n",
    "        \n",
    "now = datetime.now()\n",
    "print(\"A extração terminou às: \", now)"
   ]
  },
  {
   "cell_type": "code",
   "execution_count": null,
   "metadata": {},
   "outputs": [],
   "source": []
  },
  {
   "cell_type": "code",
   "execution_count": null,
   "metadata": {},
   "outputs": [],
   "source": [
    "df_procura_final.info()"
   ]
  },
  {
   "cell_type": "code",
   "execution_count": null,
   "metadata": {},
   "outputs": [],
   "source": []
  },
  {
   "cell_type": "code",
   "execution_count": null,
   "metadata": {},
   "outputs": [],
   "source": [
    "# Apenas Parintins"
   ]
  },
  {
   "cell_type": "code",
   "execution_count": null,
   "metadata": {},
   "outputs": [],
   "source": [
    "parintins = df_procura_final[(df_procura_final['municipio'] == 'PARINTINS')]"
   ]
  },
  {
   "cell_type": "code",
   "execution_count": null,
   "metadata": {},
   "outputs": [],
   "source": [
    "parintins.to_excel('resultados/empresas_ativas_parintins_am.xlsx',sheet_name='Sheet1', index=False)"
   ]
  }
 ],
 "metadata": {
  "kernelspec": {
   "display_name": "Python 3",
   "language": "python",
   "name": "python3"
  },
  "language_info": {
   "codemirror_mode": {
    "name": "ipython",
    "version": 3
   },
   "file_extension": ".py",
   "mimetype": "text/x-python",
   "name": "python",
   "nbconvert_exporter": "python",
   "pygments_lexer": "ipython3",
   "version": "3.6.8"
  }
 },
 "nbformat": 4,
 "nbformat_minor": 4
}
